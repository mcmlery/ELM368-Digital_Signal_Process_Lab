{
 "cells": [
  {
   "cell_type": "markdown",
   "id": "861fff07",
   "metadata": {},
   "source": [
    "# ÖDEV-4 Ek\n",
    "## Ad Soyad : Muhammed Cemal Eryiğit\n",
    "### Öğrenci No : 1801022024 "
   ]
  },
  {
   "cell_type": "markdown",
   "id": "f24d493d",
   "metadata": {},
   "source": [
    "# Ön hazırlık ödevleri (ÖDEV-4 Ek başlığı altındaki soruların çözümleri aşağıda verilecek) "
   ]
  },
  {
   "cell_type": "markdown",
   "id": "65ab886d",
   "metadata": {},
   "source": [
    "# SORU-1"
   ]
  },
  {
   "cell_type": "markdown",
   "id": "8c5c4d88",
   "metadata": {},
   "source": [
    "## Dürtü Cevabının el ile hesaplanması\n",
    "### $ H(z) = \\frac{z^2}{(z+1)(z-1)^2} $ \n",
    "### $ H(z) = \\frac{z^2}{(z+1)(z-1)^2} = \\frac{A}{z+1} + \\frac{B}{z-1} + \\frac{C}{(z-1)^2} $ \n",
    "### formatına getirilerek basit kesirlere ayırma yöntemi kullanıldı.\n",
    "\n",
    "## A için\n",
    "### $ H(z)*(z+1)$ \n",
    "### $z = -1$ için $ H(z)*(z+1) = \\frac{z^2}{(z-1)^2}$ \n",
    "$ A= \\frac{1}{4} $\n",
    "## B için\n",
    "### $ \\frac {d[H(z)*(z-1)^2]}{dz}$  !! Çift katlı kök olduğundan türev alındı\n",
    "### $z = 1$ için $ \\frac {d[H(z)*(z-1)^2]}{dz}= \\frac{ 2z*(z+1) - z^2}{(z+1)^2} $\n",
    "$ B = \\frac{3}{4} $\n",
    "## C için\n",
    "### $ H(z)*(z-1)^2$\n",
    "### $z = 1$ için $ H(z)*(z-1)^2 =\\frac{z^2}{(z+1)}$\n",
    "$C= \\frac{1}{2} $\n",
    "\n",
    "### $ H(z) = \\frac{z^2}{(z+1)(z-1)^2} = \\frac{\\frac{1}{4}}{z+1} + \\frac{\\frac{3}{4}}{z-1}+\\frac{\\frac{1}{2}}{(z-1)^2} = H_1(z)+H_2(z)+H_3(z)$ \n",
    "\n",
    "### $ H_1(z) = \\frac{\\frac{1}{4}}{z+1} =\\frac{1}{4} z^{-1}\\frac{z}{z+1}$\n",
    "$ h_1[n] = \\frac{1}{4}(-1)^{n-1}u[n-1]$\n",
    "\n",
    "### $ H_2(z) = \\frac{\\frac{3}{4}}{z-1} =\\frac{3}{4} z^{-1}\\frac{z}{z-1} $\n",
    "$ h_2[n] = \\frac{3}{4}(1)^{n-1}u[n-1] $\n",
    "\n",
    "#### $ H_3(z) = \\frac{\\frac{1}{2}}{(z-1)^2} =\\frac{1}{2} z^{-2}\\frac{z^2}{(z-1)^2}$\n",
    "$ h_3[n] = \\frac{1}{2} (n-1)(1)^{n-1}u[n-1]$\n",
    "\n",
    "\n",
    "### $ h[n] = \\frac{1}{4}(-1)^{n-1}u[n-1] + \\frac{3}{4}(1)^{n-1}u[n-1] + \\frac{1}{2} (n-1)(1)^{n-1}u[n-1] $"
   ]
  },
  {
   "cell_type": "markdown",
   "id": "35f3407e",
   "metadata": {},
   "source": [
    "### Ornek7"
   ]
  },
  {
   "cell_type": "code",
   "execution_count": 1,
   "id": "4bc1fcdf",
   "metadata": {},
   "outputs": [],
   "source": [
    "import numpy as np # Bütün kütüphane tanımlamaları burada yapıldı\n",
    "import matplotlib.pyplot as plt\n",
    "import scipy.signal as sgnl"
   ]
  },
  {
   "cell_type": "code",
   "execution_count": 2,
   "id": "1269f6a5",
   "metadata": {},
   "outputs": [
    {
     "name": "stdout",
     "output_type": "stream",
     "text": [
      "[ 1. -1. -1.  1.]\n",
      "[1. 0. 0.]\n",
      "[0.25-0.j 0.5 +0.j 0.25+0.j]\n",
      "[ 1.+0.j  1.+0.j -1.+0.j]\n",
      "[]\n"
     ]
    },
    {
     "data": {
      "text/plain": [
       "Text(0, 0.5, 'h[n]')"
      ]
     },
     "execution_count": 2,
     "metadata": {},
     "output_type": "execute_result"
    },
    {
     "data": {
      "image/png": "[encoded data removed]",
      "text/plain": [
       "<Figure size 432x288 with 1 Axes>"
      ]
     },
     "metadata": {
      "needs_background": "light"
     },
     "output_type": "display_data"
    }
   ],
   "source": [
    "z = np.array([0, 0])# a zero @z=0\n",
    "p = np.array([-1, 1, 1]) # poles of the system\n",
    "b, a = sgnl.zpk2tf(z, p, 1) # since there is no gain k=1\n",
    "print(a)\n",
    "print(b)\n",
    "#a = sgnl.convolve(np.array([1, -1/4]),np.array([1, -1/2]))\n",
    "\n",
    "r, p, k = sgnl.residuez(b,a) \n",
    "\n",
    "print(r)\n",
    "print(p)\n",
    "print(k)\n",
    "poless = np.roots(a)\n",
    "\n",
    "def count(n):\n",
    "    if n >= 0:\n",
    "        return 1\n",
    "    else:\n",
    "        return 0\n",
    "n = np.arange(0,10)\n",
    "x = np.zeros(len(n))\n",
    "for i in range(1,len(n)):\n",
    "    x[i] = (1/4)*(((-1)**(n[i-1]))*count(n[i-1])) + (3/4)*count(n[i-1]) + (1/2)*(n[i-1])*count(n[i-1])\n",
    "\n",
    "plt.figure()\n",
    "plt.stem(n,x)\n",
    "plt.xlabel(\"n\")\n",
    "plt.ylabel(\"h[n]\")"
   ]
  },
  {
   "cell_type": "markdown",
   "id": "6d72ba35",
   "metadata": {},
   "source": [
    "### Ornek8"
   ]
  },
  {
   "cell_type": "code",
   "execution_count": 3,
   "id": "ab752728",
   "metadata": {},
   "outputs": [
    {
     "name": "stdout",
     "output_type": "stream",
     "text": [
      "(array([[0.],\n",
      "       [1.],\n",
      "       [1.],\n",
      "       [2.],\n",
      "       [2.],\n",
      "       [3.],\n",
      "       [3.],\n",
      "       [4.],\n",
      "       [4.],\n",
      "       [5.]]),)\n"
     ]
    },
    {
     "name": "stderr",
     "output_type": "stream",
     "text": [
      "D:\\Fies\\anaconda3\\lib\\site-packages\\scipy\\signal\\filter_design.py:1631: BadCoefficients: Badly conditioned filter coefficients (numerator): the results may be meaningless\n",
      "  warnings.warn(\"Badly conditioned filter coefficients (numerator): the \"\n"
     ]
    },
    {
     "data": {
      "text/plain": [
       "<StemContainer object of 3 artists>"
      ]
     },
     "execution_count": 3,
     "metadata": {},
     "output_type": "execute_result"
    },
    {
     "data": {
      "image/png": "[encoded data removed]",
      "text/plain": [
       "<Figure size 432x288 with 1 Axes>"
      ]
     },
     "metadata": {
      "needs_background": "light"
     },
     "output_type": "display_data"
    }
   ],
   "source": [
    "num = np.array([0,  1, 0, 0]) \n",
    "denum = np.array([1, -1, -1, 1]) \n",
    "n, x = sgnl.dimpulse((num, denum, 1),x0=0, n=10)\n",
    "print(x)\n",
    "plt.stem(n,np.squeeze(x))"
   ]
  },
  {
   "cell_type": "code",
   "execution_count": 4,
   "id": "bbb688c8",
   "metadata": {},
   "outputs": [
    {
     "name": "stderr",
     "output_type": "stream",
     "text": [
      "D:\\Fies\\anaconda3\\lib\\site-packages\\scipy\\signal\\filter_design.py:1631: BadCoefficients: Badly conditioned filter coefficients (numerator): the results may be meaningless\n",
      "  warnings.warn(\"Badly conditioned filter coefficients (numerator): the \"\n"
     ]
    },
    {
     "data": {
      "text/plain": [
       "Text(0.5, 1.0, ' Ornek8')"
      ]
     },
     "execution_count": 4,
     "metadata": {},
     "output_type": "execute_result"
    },
    {
     "data": {
      "image/png": "[encoded data removed]",
      "text/plain": [
       "<Figure size 432x288 with 2 Axes>"
      ]
     },
     "metadata": {
      "needs_background": "light"
     },
     "output_type": "display_data"
    }
   ],
   "source": [
    "n = np.arange(0,10)\n",
    "x = np.zeros(len(n))\n",
    "for i in range(1,len(n)):\n",
    "    x[i] = (1/4)*(((-1)**(n[i-1]))*count(n[i-1])) + (3/4)*count(n[i-1]) + (1/2)*(n[i-1])*count(n[i-1])\n",
    "    \n",
    "num   = np.array([0,  1, 0, 0]) \n",
    "denum = np.array([1, -1, -1, 1]) \n",
    "n1, x1 = sgnl.dimpulse((num, denum, 1),x0=0, n=10)\n",
    "plt.subplot(1,2,1)\n",
    "plt.stem(n, x)\n",
    "plt.xlabel(\"n\")\n",
    "plt.ylabel(\"h[n]\")\n",
    "plt.title(\" Ornek7\")\n",
    "\n",
    "plt.subplot(1,2,2)\n",
    "plt.stem(n1, np.squeeze(x1))\n",
    "plt.xlabel(\"n\")\n",
    "plt.ylabel(\"h[n]\")\n",
    "plt.title(\" Ornek8\")"
   ]
  },
  {
   "cell_type": "markdown",
   "id": "3b49d305",
   "metadata": {},
   "source": [
    "### 3 durumu da ele aldığımızda r p ve k değerleri el ile elde edilen katsayılar ile uyuşmaktadır."
   ]
  }
 ],
 "metadata": {
  "kernelspec": {
   "display_name": "Python 3 (ipykernel)",
   "language": "python",
   "name": "python3"
  },
  "language_info": {
   "codemirror_mode": {
    "name": "ipython",
    "version": 3
   },
   "file_extension": ".py",
   "mimetype": "text/x-python",
   "name": "python",
   "nbconvert_exporter": "python",
   "pygments_lexer": "ipython3",
   "version": "3.9.7"
  }
 },
 "nbformat": 4,
 "nbformat_minor": 5
}
