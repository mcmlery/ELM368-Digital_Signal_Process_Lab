{
 "cells": [
  {
   "cell_type": "markdown",
   "id": "c217930b-d43b-4faf-b4dc-607f4bad00ba",
   "metadata": {},
   "source": [
    "# ÖDEV-1 Ek\n",
    "## Ad Soyad : Muhammed Cemal Eryiğit\n",
    "### Öğrenci No : 1801022024 "
   ]
  },
  {
   "cell_type": "markdown",
   "id": "dcbb93c9-1b85-4ed7-a35d-3aa30c5e6f3d",
   "metadata": {},
   "source": [
    "# Ön hazırlık ödevleri (ÖDEV-1 Ek başlığı altındaki soruların çözümleri aşağıda verilecek) "
   ]
  },
  {
   "cell_type": "markdown",
   "id": "e1e980ef-b254-4890-9326-ec6bdee9a7ab",
   "metadata": {},
   "source": [
    "### SORU-1"
   ]
  },
  {
   "cell_type": "code",
   "execution_count": 1,
   "id": "4a4850cf-810c-4e10-bb1a-f241a967f24c",
   "metadata": {},
   "outputs": [],
   "source": [
    "import numpy as np\n",
    "import matplotlib.pyplot as plt"
   ]
  },
  {
   "cell_type": "code",
   "execution_count": 2,
   "id": "5531553c-02a5-45cb-a54b-9e73ddcb8bea",
   "metadata": {},
   "outputs": [
    {
     "name": "stdout",
     "output_type": "stream",
     "text": [
      "(4-2j)\n"
     ]
    }
   ],
   "source": [
    "a=3-4j\n",
    "b=1+2j\n",
    "C=a+b\n",
    "print(C)#Tanımlamalar yapılıp çıktı alındı"
   ]
  },
  {
   "cell_type": "markdown",
   "id": "74b0cd27-f54d-466a-aab7-307301c3fbb4",
   "metadata": {},
   "source": [
    "## I)"
   ]
  },
  {
   "cell_type": "code",
   "execution_count": 3,
   "id": "94eb8bda-dd8c-48ab-bc8b-a79953c3baae",
   "metadata": {},
   "outputs": [
    {
     "name": "stdout",
     "output_type": "stream",
     "text": [
      "4.0\n"
     ]
    }
   ],
   "source": [
    "print(C.real)"
   ]
  },
  {
   "cell_type": "markdown",
   "id": "085c661b-6c74-4aeb-843a-c10e1cf657d9",
   "metadata": {},
   "source": [
    "## II)"
   ]
  },
  {
   "cell_type": "code",
   "execution_count": 4,
   "id": "24012ec6-d86d-4a11-82e7-26f3f10ed065",
   "metadata": {},
   "outputs": [
    {
     "name": "stdout",
     "output_type": "stream",
     "text": [
      "-2.0\n"
     ]
    }
   ],
   "source": [
    "print(C.imag)"
   ]
  },
  {
   "cell_type": "markdown",
   "id": "f244ac73-1fd4-4e94-9afc-d21004b71208",
   "metadata": {},
   "source": [
    "# III)"
   ]
  },
  {
   "cell_type": "code",
   "execution_count": 5,
   "id": "c42727e8-437c-4d5f-a01d-797fcd88f3ab",
   "metadata": {},
   "outputs": [
    {
     "name": "stdout",
     "output_type": "stream",
     "text": [
      "4.47213595499958\n"
     ]
    }
   ],
   "source": [
    "print(np.abs(C))"
   ]
  },
  {
   "cell_type": "markdown",
   "id": "24f734cb-3604-4a89-8dc0-4ea4ba03e761",
   "metadata": {},
   "source": [
    "# VI)"
   ]
  },
  {
   "cell_type": "code",
   "execution_count": 6,
   "id": "5c94aea6-c7bf-41e4-a8d4-b427e02822a1",
   "metadata": {},
   "outputs": [
    {
     "name": "stdout",
     "output_type": "stream",
     "text": [
      "-0.4636476090008061\n"
     ]
    }
   ],
   "source": [
    "print(np.angle(C))"
   ]
  },
  {
   "cell_type": "markdown",
   "id": "3d08c665-4d96-410e-85e9-632316c4d758",
   "metadata": {},
   "source": [
    "### SORU-2"
   ]
  },
  {
   "cell_type": "markdown",
   "id": "b92d1c42-3fbe-44a3-86c1-4af8c983528d",
   "metadata": {},
   "source": [
    "# I)"
   ]
  },
  {
   "cell_type": "markdown",
   "id": "425dea65-6823-4415-925d-365a8150ed72",
   "metadata": {},
   "source": [
    "### Periyot N=5"
   ]
  },
  {
   "cell_type": "code",
   "execution_count": 7,
   "id": "c663371e-4bc1-47ff-b119-e98630dd53e1",
   "metadata": {},
   "outputs": [],
   "source": [
    "n=np.arange(0,10) # Belirlenen aralıkta array oluşturuldu. \n",
    "x1= 2*np.sin((2*np.pi/5)*n - np.pi/5)"
   ]
  },
  {
   "cell_type": "code",
   "execution_count": 8,
   "id": "3363fabf-a51c-401e-9969-bdfce674b4c6",
   "metadata": {},
   "outputs": [
    {
     "name": "stdout",
     "output_type": "stream",
     "text": [
      "[-1.17557050e+00  1.17557050e+00  1.90211303e+00  2.44929360e-16\n",
      " -1.90211303e+00 -1.17557050e+00  1.17557050e+00  1.90211303e+00\n",
      "  7.34788079e-16 -1.90211303e+00]\n"
     ]
    },
    {
     "data": {
      "image/png": "[encoded data removed]",
      "text/plain": [
       "<Figure size 432x288 with 1 Axes>"
      ]
     },
     "metadata": {
      "needs_background": "light"
     },
     "output_type": "display_data"
    }
   ],
   "source": [
    "print(x1) #Değerlerin çıktısı alındı\n",
    "plt.stem(n,x1) #Değerler grafiğe basıldı\n",
    "plt.show()"
   ]
  },
  {
   "cell_type": "markdown",
   "id": "f6fc2dcc-c81d-4600-8e14-4b780bee7c57",
   "metadata": {},
   "source": [
    "# II)"
   ]
  },
  {
   "cell_type": "markdown",
   "id": "4f531431-805f-47f7-8387-1e3813b9dbf7",
   "metadata": {},
   "source": [
    "### Periyot N=10"
   ]
  },
  {
   "cell_type": "code",
   "execution_count": 9,
   "id": "3ca24793-3204-451e-982f-d432e162e759",
   "metadata": {},
   "outputs": [],
   "source": [
    "n=np.arange(0,20) # aynı işlemler ilk kısımdaki gibi tekrarlandı\n",
    "x2= np.sin((3*np.pi/5)*n - 2*np.pi/5)"
   ]
  },
  {
   "cell_type": "code",
   "execution_count": 10,
   "id": "08dd56bd-6a9e-4518-a34b-987fee1cb708",
   "metadata": {},
   "outputs": [
    {
     "name": "stdout",
     "output_type": "stream",
     "text": [
      "[-9.51056516e-01  5.87785252e-01  5.87785252e-01 -9.51056516e-01\n",
      " -2.44929360e-16  9.51056516e-01 -5.87785252e-01 -5.87785252e-01\n",
      "  9.51056516e-01  6.12323400e-16 -9.51056516e-01  5.87785252e-01\n",
      "  5.87785252e-01 -9.51056516e-01 -9.79717439e-16  9.51056516e-01\n",
      " -5.87785252e-01 -5.87785252e-01  9.51056516e-01 -2.20560220e-15]\n"
     ]
    },
    {
     "data": {
      "image/png": "[encoded data removed]",
      "text/plain": [
       "<Figure size 432x288 with 1 Axes>"
      ]
     },
     "metadata": {
      "needs_background": "light"
     },
     "output_type": "display_data"
    }
   ],
   "source": [
    "print(x2)\n",
    "plt.stem(n,x2)\n",
    "plt.show()"
   ]
  },
  {
   "cell_type": "markdown",
   "id": "f09d31d2-620f-4c3b-b429-98b5360c82de",
   "metadata": {},
   "source": [
    "### SORU-3"
   ]
  },
  {
   "cell_type": "markdown",
   "id": "1ab8564e-16b3-4197-9ccd-0c076caf9628",
   "metadata": {},
   "source": [
    "# I)"
   ]
  },
  {
   "cell_type": "code",
   "execution_count": 11,
   "id": "aaddf7f2-8f4c-44e6-afec-556ff275dbb0",
   "metadata": {},
   "outputs": [
    {
     "name": "stdout",
     "output_type": "stream",
     "text": [
      "1.8744560875853382\n"
     ]
    }
   ],
   "source": [
    "#grafiklerin çıktısı alınırken real ve imaginer kısımlarının çıktıları ayrı ayrı alındı\n",
    "x1 = np.exp(np.pi/5) #fonksiyon tanımlandı\n",
    "n=np.arange(0,15) \n",
    "print(x1) #fonksiyonun çıktısı alındı"
   ]
  },
  {
   "cell_type": "code",
   "execution_count": 12,
   "id": "7c6ef9f9-ffd0-40d5-9a02-d9e355729c13",
   "metadata": {},
   "outputs": [
    {
     "data": {
      "image/png": "[encoded data removed]",
      "text/plain": [
       "<Figure size 432x288 with 1 Axes>"
      ]
     },
     "metadata": {
      "needs_background": "light"
     },
     "output_type": "display_data"
    }
   ],
   "source": [
    "x1_i=np.zeros(15)# sabit x1 değerini bir diziye atamak için 15 elemanlı 0 dizisi oluşturuldu\n",
    "for i in range(0,15):#oluşturulan diziye atamalar yapıldı\n",
    "    x1_i[i] = x1.imag\n",
    "plt.title('x1[n] imag')#grafiğin başlığı belirtildi\n",
    "plt.stem(n,x1_i)# grafik çıktısı alındı\n",
    "plt.show()"
   ]
  },
  {
   "cell_type": "code",
   "execution_count": 13,
   "id": "6ae97972-223b-4aac-b674-5b305720a5ed",
   "metadata": {},
   "outputs": [
    {
     "data": {
      "image/png": "[encoded data removed]",
      "text/plain": [
       "<Figure size 432x288 with 1 Axes>"
      ]
     },
     "metadata": {
      "needs_background": "light"
     },
     "output_type": "display_data"
    }
   ],
   "source": [
    "x1_r=np.zeros(15)\n",
    "for i in range(0,15):\n",
    "    x1_r[i] = x1.real\n",
    "plt.title('x1[n] real')#ilk kısımdaki işlemler tekrarlandı real kısımın çıktısı alınması için title ve stem komutunun içerisi değiştirildi \n",
    "plt.stem(n,x1_r)\n",
    "plt.show()"
   ]
  },
  {
   "cell_type": "markdown",
   "id": "493c0a9a-254d-4020-a9a1-cf74031b6195",
   "metadata": {},
   "source": [
    "# II)"
   ]
  },
  {
   "cell_type": "code",
   "execution_count": 14,
   "id": "e112195a-e605-45fd-90f1-6a37f6b28499",
   "metadata": {},
   "outputs": [
    {
     "name": "stdout",
     "output_type": "stream",
     "text": [
      "[ 1.        +0.00000000e+00j  0.80901699+5.87785252e-01j\n",
      " -0.80901699+5.87785252e-01j  0.80901699-5.87785252e-01j\n",
      " -0.80901699-5.87785252e-01j -1.        +6.12323400e-16j\n",
      " -0.80901699-5.87785252e-01j  0.80901699-5.87785252e-01j\n",
      " -0.80901699+5.87785252e-01j  0.80901699+5.87785252e-01j\n",
      "  1.        -2.44929360e-15j  0.80901699+5.87785252e-01j\n",
      " -0.80901699+5.87785252e-01j  0.80901699-5.87785252e-01j\n",
      " -0.80901699-5.87785252e-01j]\n"
     ]
    }
   ],
   "source": [
    "n=np.arange(0,15) #kısım birdeki işlemler tekrarlandı\n",
    "x3 = np.exp((1j*np.pi*n/5)*n)\n",
    "print(x3)"
   ]
  },
  {
   "cell_type": "code",
   "execution_count": 15,
   "id": "0d66b303-a836-44d3-bba6-c15368eefbc0",
   "metadata": {},
   "outputs": [
    {
     "data": {
      "image/png": "[encoded data removed]",
      "text/plain": [
       "<Figure size 432x288 with 1 Axes>"
      ]
     },
     "metadata": {
      "needs_background": "light"
     },
     "output_type": "display_data"
    }
   ],
   "source": [
    "plt.title('x3[n] imag')\n",
    "plt.stem(n,x3.imag)\n",
    "plt.show()"
   ]
  },
  {
   "cell_type": "code",
   "execution_count": 16,
   "id": "29d0129a-963e-4cb7-b5bf-6f589357e4cf",
   "metadata": {},
   "outputs": [
    {
     "data": {
      "image/png": "[encoded data removed]",
      "text/plain": [
       "<Figure size 432x288 with 1 Axes>"
      ]
     },
     "metadata": {
      "needs_background": "light"
     },
     "output_type": "display_data"
    }
   ],
   "source": [
    "plt.title('x3[n] real')\n",
    "plt.stem(n,x3.real)\n",
    "plt.show()"
   ]
  },
  {
   "cell_type": "markdown",
   "id": "5d574467-c12b-4017-b9d4-6b2d611849c2",
   "metadata": {},
   "source": [
    "# III)"
   ]
  },
  {
   "cell_type": "code",
   "execution_count": 17,
   "id": "8c90b9ed-550a-4ca2-b9c8-84318885d344",
   "metadata": {},
   "outputs": [
    {
     "name": "stdout",
     "output_type": "stream",
     "text": [
      "(0.8090169943749475+0.5877852522924731j)\n"
     ]
    }
   ],
   "source": [
    "x4 = np.cos(np.pi/5)+1j*np.sin(np.pi/5)#kısım birdeki işlemler tekrarlandı\n",
    "print(x4)"
   ]
  },
  {
   "cell_type": "code",
   "execution_count": 18,
   "id": "66cdbfae-fe89-45a7-b7bf-59d5d85e8f65",
   "metadata": {},
   "outputs": [
    {
     "data": {
      "image/png": "[encoded data removed]",
      "text/plain": [
       "<Figure size 432x288 with 1 Axes>"
      ]
     },
     "metadata": {
      "needs_background": "light"
     },
     "output_type": "display_data"
    }
   ],
   "source": [
    "x4_i=np.zeros(15)\n",
    "for i in range(0,15):\n",
    "    x4_i[i] = x4.imag\n",
    "plt.title('x4[n] imag')\n",
    "plt.stem(n,x4_i)\n",
    "plt.show()"
   ]
  },
  {
   "cell_type": "code",
   "execution_count": 19,
   "id": "57a5947f-6788-460e-b6d8-3072a6985073",
   "metadata": {},
   "outputs": [
    {
     "data": {
      "image/png": "[encoded data removed]",
      "text/plain": [
       "<Figure size 432x288 with 1 Axes>"
      ]
     },
     "metadata": {
      "needs_background": "light"
     },
     "output_type": "display_data"
    }
   ],
   "source": [
    "x4_r=np.zeros(15)\n",
    "for i in range(0,15):\n",
    "    x4_r[i] = x4.real\n",
    "plt.title('x4[n] real')\n",
    "plt.stem(n,x4_r)\n",
    "plt.show()"
   ]
  },
  {
   "cell_type": "markdown",
   "id": "854a854d-0bcf-40d5-8e7f-99f700757e86",
   "metadata": {},
   "source": [
    "# VI)"
   ]
  },
  {
   "cell_type": "code",
   "execution_count": 20,
   "id": "96fd7fe4-cf1f-4109-acc1-4935e736b2b1",
   "metadata": {},
   "outputs": [
    {
     "name": "stdout",
     "output_type": "stream",
     "text": [
      "[ 1.        +0.00000000e+00j  0.80901699+5.87785252e-01j\n",
      "  0.30901699+9.51056516e-01j -0.30901699+9.51056516e-01j\n",
      " -0.80901699+5.87785252e-01j -1.        +1.22464680e-16j\n",
      " -0.80901699-5.87785252e-01j -0.30901699-9.51056516e-01j\n",
      "  0.30901699-9.51056516e-01j  0.80901699-5.87785252e-01j\n",
      "  1.        -2.44929360e-16j  0.80901699+5.87785252e-01j\n",
      "  0.30901699+9.51056516e-01j -0.30901699+9.51056516e-01j\n",
      " -0.80901699+5.87785252e-01j]\n"
     ]
    }
   ],
   "source": [
    "n=np.arange(0,15) #kısım birdeki işlemler tekrarlandı\n",
    "x5 = np.cos(np.pi*n/5)+1j*np.sin(np.pi*n/5)\n",
    "print(x5)"
   ]
  },
  {
   "cell_type": "code",
   "execution_count": 21,
   "id": "e952e8c9-17fa-4226-a719-01393f2e0c4b",
   "metadata": {},
   "outputs": [
    {
     "data": {
      "image/png": "[encoded data removed]",
      "text/plain": [
       "<Figure size 432x288 with 1 Axes>"
      ]
     },
     "metadata": {
      "needs_background": "light"
     },
     "output_type": "display_data"
    }
   ],
   "source": [
    "plt.title('x5[n] imag')\n",
    "plt.stem(n,x5.imag)\n",
    "plt.show()"
   ]
  },
  {
   "cell_type": "code",
   "execution_count": 22,
   "id": "951c2467-a3d4-46f4-8dda-e58496ee4b62",
   "metadata": {},
   "outputs": [
    {
     "data": {
      "image/png": "[encoded data removed]",
      "text/plain": [
       "<Figure size 432x288 with 1 Axes>"
      ]
     },
     "metadata": {
      "needs_background": "light"
     },
     "output_type": "display_data"
    }
   ],
   "source": [
    "plt.title('x5[n] real')\n",
    "plt.stem(n,x5.real)\n",
    "plt.show()"
   ]
  }
 ],
 "metadata": {
  "kernelspec": {
   "display_name": "Python 3 (ipykernel)",
   "language": "python",
   "name": "python3"
  },
  "language_info": {
   "codemirror_mode": {
    "name": "ipython",
    "version": 3
   },
   "file_extension": ".py",
   "mimetype": "text/x-python",
   "name": "python",
   "nbconvert_exporter": "python",
   "pygments_lexer": "ipython3",
   "version": "3.9.7"
  }
 },
 "nbformat": 4,
 "nbformat_minor": 5
}
