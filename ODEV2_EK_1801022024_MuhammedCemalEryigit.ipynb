{
 "cells": [
  {
   "cell_type": "markdown",
   "id": "31242ef7",
   "metadata": {},
   "source": [
    "# ÖDEV-2 Ek\n",
    "## Ad Soyad : Muhammed Cemal Eryiğit\n",
    "### Öğrenci No : 1801022024 "
   ]
  },
  {
   "cell_type": "markdown",
   "id": "b062d902",
   "metadata": {},
   "source": [
    "# Ön hazırlık ödevleri (ÖDEV-2 Ek başlığı altındaki soruların çözümleri aşağıda verilecek) "
   ]
  },
  {
   "cell_type": "markdown",
   "id": "cb7a2ed2",
   "metadata": {},
   "source": [
    "# SORU-1"
   ]
  },
  {
   "cell_type": "markdown",
   "id": "5d8e9fd6",
   "metadata": {},
   "source": [
    "### 1 B)"
   ]
  },
  {
   "cell_type": "code",
   "execution_count": 1,
   "id": "aeccefce",
   "metadata": {},
   "outputs": [],
   "source": [
    "import numpy as np\n",
    "from scipy import signal\n",
    "from matplotlib import pyplot as plt"
   ]
  },
  {
   "cell_type": "code",
   "execution_count": 2,
   "id": "72eb8829",
   "metadata": {},
   "outputs": [
    {
     "name": "stdout",
     "output_type": "stream",
     "text": [
      "[1.         1.1        1.21       0.331      0.3641     0.40051\n",
      " 0.440561   0.4846171  0.53307881 0.58638669 0.64502536]\n"
     ]
    }
   ],
   "source": [
    "# h[n] = 1.1*h[n-1] + dirac[n] - dirac[n-3] \n",
    "# h[-1] = 0 n<0 için\n",
    "h = np.zeros(11)\n",
    "h[-1] = 0\n",
    "for n in range(11): #h[n] birim dürtü cevabını bulma loopu (el ile hesaplamak yerine for içinde hesapladım)\n",
    "    if((n != 0) & (n != 3)):\n",
    "        h[n] = 1.1*h[n-1] \n",
    "    elif(n == 0):\n",
    "        h[0] = 1\n",
    "    elif(n == 3):\n",
    "        h[n] = 1.1*h[n-1]-1\n",
    "print(h)"
   ]
  },
  {
   "cell_type": "markdown",
   "id": "18304952",
   "metadata": {},
   "source": [
    "### sistemin girişine birim dürtü uygulanarak hesaplandı."
   ]
  },
  {
   "cell_type": "markdown",
   "id": "71ef2622",
   "metadata": {},
   "source": [
    "### 1 C)"
   ]
  },
  {
   "cell_type": "markdown",
   "id": "66d4e59c",
   "metadata": {},
   "source": [
    "### h[n] toplamı sonsuzdan kuçuk olduğu için kararlıdır."
   ]
  },
  {
   "cell_type": "markdown",
   "id": "e6a40bae",
   "metadata": {},
   "source": [
    "# Soru -2"
   ]
  },
  {
   "cell_type": "markdown",
   "id": "c55146f5",
   "metadata": {},
   "source": [
    "### a)"
   ]
  },
  {
   "cell_type": "code",
   "execution_count": 3,
   "id": "6fbf00f2",
   "metadata": {},
   "outputs": [
    {
     "name": "stdout",
     "output_type": "stream",
     "text": [
      "[ 1.          0.80901699  0.30901699 -0.30901699 -0.80901699 -1.\n",
      " -0.80901699 -0.30901699  0.30901699  0.80901699  1.          0.80901699\n",
      "  0.30901699 -0.30901699 -0.80901699 -1.         -0.80901699 -0.30901699\n",
      "  0.30901699  0.80901699]\n"
     ]
    },
    {
     "data": {
      "text/plain": [
       "Text(0.5, 0, 'n')"
      ]
     },
     "execution_count": 3,
     "metadata": {},
     "output_type": "execute_result"
    },
    {
     "data": {
      "image/png": "[encoded data removed]",
      "text/plain": [
       "<Figure size 432x288 with 1 Axes>"
      ]
     },
     "metadata": {
      "needs_background": "light"
     },
     "output_type": "display_data"
    }
   ],
   "source": [
    "x1 = np.zeros(20)\n",
    "for n in range(20):\n",
    "    if(n < 20):\n",
    "        x1[n] = np.cos((np.pi/5)*n)*1 # u[n] n<0 için 0'dır. Bu sebeple cos((pi/5)*n) * (1 - 0) olur\n",
    "\n",
    "    else:\n",
    "        x1[n] = np.cos((np.pi/5)*n) *0 #u[n] n>=0 için 1 u[n] n<0 için 0'dır. Bu sebeple cos((pi/5)*n) + 1 - 1 olur\n",
    "        \n",
    "n = np.arange(0,20)\n",
    "print(x1)\n",
    "plt.stem(n,x1) #giriş işareti\n",
    "plt.title('[x1[n]]')\n",
    "plt.xlabel('n')"
   ]
  },
  {
   "cell_type": "code",
   "execution_count": 4,
   "id": "1b96ac5c",
   "metadata": {},
   "outputs": [
    {
     "name": "stdout",
     "output_type": "stream",
     "text": [
      "[ 0.00000000e+00  1.00000000e+00  8.09016994e-01 -6.90983006e-01\n",
      " -1.11803399e+00 -1.11803399e+00 -6.90983006e-01 -1.11022302e-16\n",
      "  6.90983006e-01  1.11803399e+00  1.11803399e+00  6.90983006e-01\n",
      "  2.22044605e-16 -6.90983006e-01 -1.11803399e+00 -1.11803399e+00\n",
      " -6.90983006e-01 -4.44089210e-16  6.90983006e-01  1.11803399e+00\n",
      "  1.11803399e+00 -3.09016994e-01 -8.09016994e-01]\n"
     ]
    },
    {
     "data": {
      "text/plain": [
       "Text(0.5, 0, 'n')"
      ]
     },
     "execution_count": 4,
     "metadata": {},
     "output_type": "execute_result"
    },
    {
     "data": {
      "image/png": "[encoded data removed]",
      "text/plain": [
       "<Figure size 432x288 with 1 Axes>"
      ]
     },
     "metadata": {
      "needs_background": "light"
     },
     "output_type": "display_data"
    }
   ],
   "source": [
    "h = np.array ([0,1,0,-1],dtype = float) #birim dürtü cevabı el ile hesaplanarak yazıldı\n",
    "y = signal.convolve(x1,h) #convolisyon işlemi\n",
    "print(y)\n",
    "n = np.arange(0,23)\n",
    "plt.stem(n,y) #çıkış işareti\n",
    "plt.title('[y1[n]]')\n",
    "plt.xlabel('n')"
   ]
  },
  {
   "cell_type": "markdown",
   "id": "c434abe8",
   "metadata": {},
   "source": [
    "### b)"
   ]
  },
  {
   "cell_type": "code",
   "execution_count": 5,
   "id": "0f2a30ff",
   "metadata": {},
   "outputs": [
    {
     "name": "stdout",
     "output_type": "stream",
     "text": [
      "[ 0.     -0.3     0.09   -0.027   0.0081]\n"
     ]
    },
    {
     "data": {
      "text/plain": [
       "Text(0.5, 0, 'n')"
      ]
     },
     "execution_count": 5,
     "metadata": {},
     "output_type": "execute_result"
    },
    {
     "data": {
      "image/png": "[encoded data removed]",
      "text/plain": [
       "<Figure size 432x288 with 1 Axes>"
      ]
     },
     "metadata": {
      "needs_background": "light"
     },
     "output_type": "display_data"
    }
   ],
   "source": [
    "x2 = np.zeros(5)\n",
    "for n in range(5):\n",
    "    if(n < 1):\n",
    "        x2[n] = (-0.3)**n*0 # u[n] n<0 için 0'dır. Bu sebeple (-0.3)**n * (0 - 0) olur\n",
    "    elif(1 <= n < 5):\n",
    "        x2[n] = (-0.3)**n* 1 #u[n] n>=0 için 1'dır. Bu sebeple (-0.3)**n * (1 - 0) olur\n",
    "    else:\n",
    "        x2[n] = (-0.3)**n*0 #u[n] n>=0 için 1 u[n] n<0 için 0'dır. Bu sebeple (-0.3)**n * (1 - 1) olur\n",
    "n = np.arange(0,5)\n",
    "print(x2)\n",
    "plt.stem(n,x2)\n",
    "plt.title('[x2[n]]')\n",
    "plt.xlabel('n')"
   ]
  },
  {
   "cell_type": "code",
   "execution_count": 6,
   "id": "40920866",
   "metadata": {},
   "outputs": [
    {
     "name": "stdout",
     "output_type": "stream",
     "text": [
      "[ 0.      0.     -0.3     0.09    0.273  -0.0819  0.027  -0.0081]\n"
     ]
    },
    {
     "data": {
      "text/plain": [
       "Text(0.5, 0, 'n')"
      ]
     },
     "execution_count": 6,
     "metadata": {},
     "output_type": "execute_result"
    },
    {
     "data": {
      "image/png": "[encoded data removed]",
      "text/plain": [
       "<Figure size 432x288 with 1 Axes>"
      ]
     },
     "metadata": {
      "needs_background": "light"
     },
     "output_type": "display_data"
    }
   ],
   "source": [
    "h = np.array ([0,1,0,-1],dtype = float) #birim dürtü cevabı el ile hesaplanarak yazıldı\n",
    "y = signal.convolve(x2,h) #convolisyon işlemi\n",
    "print(y)\n",
    "n = np.arange(0,8)\n",
    "plt.stem(n,y) #çıkış işareti\n",
    "plt.title('[y2[n]]')\n",
    "plt.xlabel('n')"
   ]
  }
 ],
 "metadata": {
  "kernelspec": {
   "display_name": "Python 3 (ipykernel)",
   "language": "python",
   "name": "python3"
  },
  "language_info": {
   "codemirror_mode": {
    "name": "ipython",
    "version": 3
   },
   "file_extension": ".py",
   "mimetype": "text/x-python",
   "name": "python",
   "nbconvert_exporter": "python",
   "pygments_lexer": "ipython3",
   "version": "3.9.7"
  }
 },
 "nbformat": 4,
 "nbformat_minor": 5
}
