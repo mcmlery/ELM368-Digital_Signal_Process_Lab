{
 "cells": [
  {
   "cell_type": "markdown",
   "id": "1208f66b",
   "metadata": {},
   "source": [
    "# ÖDEV-3 Ek\n",
    "## Ad Soyad : Muhammed Cemal Eryiğit\n",
    "### Öğrenci No : 1801022024 "
   ]
  },
  {
   "cell_type": "markdown",
   "id": "b047c0a8",
   "metadata": {},
   "source": [
    "# Ön hazırlık ödevleri (ÖDEV- Ek başlığı altındaki soruların çözümleri aşağıda verilecek) "
   ]
  },
  {
   "cell_type": "markdown",
   "id": "850b077c",
   "metadata": {},
   "source": [
    "### SORU-1"
   ]
  },
  {
   "cell_type": "code",
   "execution_count": 1,
   "id": "98e78f52",
   "metadata": {},
   "outputs": [],
   "source": [
    "import numpy as np\n",
    "import matplotlib.pyplot as plt\n",
    "import scipy.signal as sig\n",
    "from scipy.fftpack import fft , ifft"
   ]
  },
  {
   "cell_type": "code",
   "execution_count": 2,
   "id": "49cb8624",
   "metadata": {},
   "outputs": [],
   "source": [
    "n= np.arange(0,8)\n",
    "x = np.array([0,0.707106,-1,0.707106,0,-0.707106,1,-0.707106])\n",
    "N = len(x)\n",
    "w_disc = n*2*np.pi/N\n",
    "fft_x = fft(x)\n",
    "x_abs = np.abs(fft_x/N)\n",
    "x_phase = np.angle(fft_x/N)"
   ]
  },
  {
   "cell_type": "code",
   "execution_count": 3,
   "id": "8eaa6937",
   "metadata": {},
   "outputs": [
    {
     "data": {
      "text/plain": [
       "Text(0.5, 1.0, '$\\\\frac{1}{N}\\\\measuredangle X(e^{j\\\\omega})(\\\\times \\\\pi)=\\\\measuredangle a_k(\\\\times \\\\pi)$')"
      ]
     },
     "execution_count": 3,
     "metadata": {},
     "output_type": "execute_result"
    },
    {
     "data": {
      "image/png": "[encoded data removed]",
      "text/plain": [
       "<Figure size 432x288 with 2 Axes>"
      ]
     },
     "metadata": {
      "needs_background": "light"
     },
     "output_type": "display_data"
    }
   ],
   "source": [
    "plt.figure()\n",
    "plt.subplot(121)\n",
    "plt.stem(w_disc/np.pi,x_abs)\n",
    "plt.xlabel('$\\omega (\\\\times \\pi)$')\n",
    "plt.title('$\\\\frac{1}{N}|X(e^{j\\omega})|=|a_{k}|$')\n",
    "\n",
    "plt.subplot(122)\n",
    "plt.stem(w_disc/np.pi,x_phase/np.pi)\n",
    "plt.xlabel('$\\omega (\\\\times \\pi)$')\n",
    "plt.title('$\\\\frac{1}{N}\\measuredangle X(e^{j\\omega})(\\\\times \\pi)=\\measuredangle a_k(\\\\times \\pi)$')"
   ]
  },
  {
   "cell_type": "markdown",
   "id": "9cce096c",
   "metadata": {},
   "source": [
    "### 𝐴𝑐𝑜𝑠(𝜔0𝑛 + 𝜙)\n",
    "### A = 1 \n",
    "### $\\omega = 0.75*\\pi$ \n",
    "### $fi=-\\pi/2 $"
   ]
  },
  {
   "cell_type": "markdown",
   "id": "5bbd992a",
   "metadata": {},
   "source": [
    "### SORU-2"
   ]
  },
  {
   "cell_type": "code",
   "execution_count": 4,
   "id": "a67fdae8",
   "metadata": {},
   "outputs": [],
   "source": [
    "n=np.arange(0,11)\n",
    "dirac_n = np.array([0 if i!=0 else 1 for i in n])\n",
    "dirac_n_eksi_1 = np.array([0 if i!=1 else 1 for i in n])\n",
    "h = dirac_n - dirac_n_eksi_1"
   ]
  },
  {
   "cell_type": "code",
   "execution_count": 5,
   "id": "6e7e5cf4",
   "metadata": {},
   "outputs": [],
   "source": [
    "fft_H=fft(h) #fast fourier transformu alındı\n",
    "abs_fft_H=np.abs(fft_H)\n",
    "phase_fft_H=np.angle(fft_H)"
   ]
  },
  {
   "cell_type": "code",
   "execution_count": 6,
   "id": "44aaf479",
   "metadata": {},
   "outputs": [
    {
     "name": "stdout",
     "output_type": "stream",
     "text": [
      "[ 0.         -0.38883545 -1.08005691 -1.14231484 -0.17293204  1.22373404\n",
      "  1.95949297  1.4819287   0.28605309 -0.58458499 -0.54758192]\n"
     ]
    }
   ],
   "source": [
    "y = (np.cos(((np.pi/3)*n) + (phase_fft_H)) * abs_fft_H)\n",
    "print(y)"
   ]
  },
  {
   "cell_type": "code",
   "execution_count": 7,
   "id": "f9d24974",
   "metadata": {},
   "outputs": [
    {
     "data": {
      "text/plain": [
       "Text(0, 0.5, 'y[n]')"
      ]
     },
     "execution_count": 7,
     "metadata": {},
     "output_type": "execute_result"
    },
    {
     "data": {
      "image/png": "[encoded data removed]",
      "text/plain": [
       "<Figure size 432x288 with 1 Axes>"
      ]
     },
     "metadata": {
      "needs_background": "light"
     },
     "output_type": "display_data"
    }
   ],
   "source": [
    "plt.figure() #grafik çizimi\n",
    "plt.stem(n,y)\n",
    "plt.xlabel('n')\n",
    "plt.ylabel('y[n]')"
   ]
  },
  {
   "cell_type": "code",
   "execution_count": null,
   "id": "5450fbbd",
   "metadata": {},
   "outputs": [],
   "source": []
  }
 ],
 "metadata": {
  "kernelspec": {
   "display_name": "Python 3 (ipykernel)",
   "language": "python",
   "name": "python3"
  },
  "language_info": {
   "codemirror_mode": {
    "name": "ipython",
    "version": 3
   },
   "file_extension": ".py",
   "mimetype": "text/x-python",
   "name": "python",
   "nbconvert_exporter": "python",
   "pygments_lexer": "ipython3",
   "version": "3.9.7"
  }
 },
 "nbformat": 4,
 "nbformat_minor": 5
}
