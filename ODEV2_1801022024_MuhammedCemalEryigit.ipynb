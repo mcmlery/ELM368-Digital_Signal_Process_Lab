{
 "cells": [
  {
   "cell_type": "markdown",
   "id": "e770c05e",
   "metadata": {},
   "source": [
    "# ÖDEV-2\n",
    "## Ad Soyad : Muhammed Cemal Eryiğit\n",
    "### Öğrenci No : 1801022024 "
   ]
  },
  {
   "cell_type": "markdown",
   "id": "c8e639dc",
   "metadata": {},
   "source": [
    "### Ön hazırlık dosyasında verilen kodlar aşağıya yazılacak:"
   ]
  },
  {
   "cell_type": "code",
   "execution_count": 1,
   "id": "603deb22",
   "metadata": {},
   "outputs": [],
   "source": [
    "import numpy as np\n",
    "from scipy import signal\n",
    "from matplotlib import pyplot as plt"
   ]
  },
  {
   "cell_type": "code",
   "execution_count": 2,
   "id": "60b50d51",
   "metadata": {},
   "outputs": [
    {
     "name": "stdout",
     "output_type": "stream",
     "text": [
      "[ 1.     0.5   -2.25   1.125]\n"
     ]
    }
   ],
   "source": [
    "# Hazır komut kullanmadan çıkı işaretini hesaplama\n",
    "x = np.zeros(20)\n",
    "y = np.zeros(20)\n",
    "\n",
    "y[-1] = 0\n",
    "x[-1] = 0\n",
    "x[0] = 1\n",
    "x[1] = -1\n",
    "\n",
    "for n in range(0,4):\n",
    "    y[n] = -0.5*y[n-1]+x[n]+2*x[n-1]\n",
    "    \n",
    "print(y[0:4])"
   ]
  },
  {
   "cell_type": "code",
   "execution_count": 3,
   "id": "00a133d6",
   "metadata": {},
   "outputs": [
    {
     "name": "stdout",
     "output_type": "stream",
     "text": [
      "[ 1.     0.5   -2.25   1.125]\n"
     ]
    }
   ],
   "source": [
    "# Hazır komut kullanarak çıkış işaretini hesaplama\n",
    "x = np.array ([1,-1,0,0],dtype = float)\n",
    "b = [1,2]\n",
    "a = [1,0.5]\n",
    "y = signal.lfilter(b,a,x)\n",
    "print(y)"
   ]
  },
  {
   "cell_type": "code",
   "execution_count": 4,
   "id": "4414d2f9",
   "metadata": {},
   "outputs": [
    {
     "data": {
      "text/plain": [
       "Text(0.5, 0, 'n')"
      ]
     },
     "execution_count": 4,
     "metadata": {},
     "output_type": "execute_result"
    },
    {
     "data": {
      "image/png": "[encoded data removed]",
      "text/plain": [
       "<Figure size 432x288 with 1 Axes>"
      ]
     },
     "metadata": {
      "needs_background": "light"
     },
     "output_type": "display_data"
    }
   ],
   "source": [
    "n = np.arange(0,4)\n",
    "plt.stem(n,y)\n",
    "plt.title('[y[n]]')\n",
    "plt.xlabel('n')"
   ]
  },
  {
   "cell_type": "code",
   "execution_count": 5,
   "id": "bd173a9f",
   "metadata": {},
   "outputs": [
    {
     "name": "stdout",
     "output_type": "stream",
     "text": [
      "[ 1.  5.  5. -3.]\n"
     ]
    }
   ],
   "source": [
    "# Hazır fonksiyon kullanmadan konvolisyon hesaplama\n",
    "x = np.array([1,2,-1],dtype=float)\n",
    "h = np.array([1,3],dtype=float)\n",
    "\n",
    "nXmin = 0\n",
    "nHmin = 0\n",
    "\n",
    "M = len(x)\n",
    "N = len(h)\n",
    "L = M+ N - 1\n",
    "y = np.zeros(L)\n",
    "for n in range(L):\n",
    "    y[n] = 0\n",
    "    for k in range(M):\n",
    "        if (n - k) >= 0 and (n - k) < N:\n",
    "            y[n] = y[n] + x[k] * h[n-k]\n",
    "print(y)"
   ]
  },
  {
   "cell_type": "code",
   "execution_count": 6,
   "id": "0549d4c3",
   "metadata": {},
   "outputs": [
    {
     "name": "stdout",
     "output_type": "stream",
     "text": [
      "[0, 1, 2, 3]\n"
     ]
    }
   ],
   "source": [
    "nY = [i for i in range(nXmin + nHmin, nXmin+ nHmin +L)]\n",
    "print(nY)"
   ]
  },
  {
   "cell_type": "code",
   "execution_count": 7,
   "id": "c09f6051",
   "metadata": {},
   "outputs": [
    {
     "name": "stdout",
     "output_type": "stream",
     "text": [
      "[ 1.  0.  2. -1.  3.  0.  6. -3.]\n"
     ]
    }
   ],
   "source": [
    "x = np.array ([1,0,2,-1],dtype=float)\n",
    "h = np.array ([1,0,0,0,3],dtype=float)\n",
    "nXmin = -1\n",
    "nHmin = -2\n",
    "M = len(x)\n",
    "N = len(h)\n",
    "L = M+ N - 1\n",
    "y = np.zeros(L)\n",
    "for n in range(L):\n",
    "    y[n] = 0\n",
    "    for k in range(M):\n",
    "        if (n - k) >= 0 and (n - k) < N:\n",
    "            y[n] = y[n] + x[k] * h[n-k]\n",
    "print(y)"
   ]
  },
  {
   "cell_type": "code",
   "execution_count": 8,
   "id": "fbbeaa99",
   "metadata": {},
   "outputs": [
    {
     "name": "stdout",
     "output_type": "stream",
     "text": [
      "[ 1.  0.  2. -1.  3.  0.  6. -3.]\n",
      "[-3, -2, -1, 0, 1, 2, 3, 4]\n"
     ]
    }
   ],
   "source": [
    "print(y)\n",
    "nY = [i for i in range(nXmin + nHmin, nXmin+ nHmin +L)]\n",
    "print(nY)"
   ]
  },
  {
   "cell_type": "code",
   "execution_count": 9,
   "id": "77c1e195",
   "metadata": {},
   "outputs": [
    {
     "data": {
      "text/plain": [
       "Text(0.5, 1.0, 'y[n]')"
      ]
     },
     "execution_count": 9,
     "metadata": {},
     "output_type": "execute_result"
    },
    {
     "data": {
      "image/png": "[encoded data removed]",
      "text/plain": [
       "<Figure size 432x288 with 1 Axes>"
      ]
     },
     "metadata": {
      "needs_background": "light"
     },
     "output_type": "display_data"
    }
   ],
   "source": [
    "plt.stem(nY,y)\n",
    "plt.title('y[n]')"
   ]
  },
  {
   "cell_type": "code",
   "execution_count": 10,
   "id": "ef091505",
   "metadata": {},
   "outputs": [],
   "source": [
    "# Hazır fonksiyon kullanarak konvolisyon hesaplama"
   ]
  },
  {
   "cell_type": "code",
   "execution_count": 11,
   "id": "2459b91e",
   "metadata": {},
   "outputs": [
    {
     "name": "stdout",
     "output_type": "stream",
     "text": [
      "[ 1.  5.  5. -3.]\n",
      "[ 1.  5.  5. -3.]\n"
     ]
    }
   ],
   "source": [
    "x = np.array([1,2,-1],dtype=float)\n",
    "h = np.array([1,3],dtype=float)\n",
    "print(np.convolve(x,h))\n",
    "print(signal.convolve(x,h))"
   ]
  },
  {
   "cell_type": "markdown",
   "id": "127e41f2",
   "metadata": {},
   "source": [
    "# Ön hazırlık ödevleri (ÖDEV-2 başlığı altındaki soruların çözümleri aşağıda verilecek) "
   ]
  },
  {
   "cell_type": "markdown",
   "id": "56cd685f",
   "metadata": {},
   "source": [
    "# Soru 1"
   ]
  },
  {
   "cell_type": "code",
   "execution_count": 12,
   "id": "69d0be80",
   "metadata": {},
   "outputs": [
    {
     "name": "stdout",
     "output_type": "stream",
     "text": [
      "[0.       0.       0.       0.       1.       2.1      3.31     3.641\n",
      " 4.0051   4.40561  4.846171]\n"
     ]
    }
   ],
   "source": [
    "x = np.zeros(10)\n",
    "x = np.array ([0,0,0,0,1,1,1,1,1,1,1],dtype = float)\n",
    "a = [1,-1.1]\n",
    "b = [1,0,0,-1]\n",
    "y = signal.lfilter(b,a,x)\n",
    "print(y)"
   ]
  },
  {
   "cell_type": "code",
   "execution_count": 13,
   "id": "ad9052f8",
   "metadata": {},
   "outputs": [
    {
     "data": {
      "text/plain": [
       "Text(0.5, 0, 'n')"
      ]
     },
     "execution_count": 13,
     "metadata": {},
     "output_type": "execute_result"
    },
    {
     "data": {
      "image/png": "[encoded data removed]",
      "text/plain": [
       "<Figure size 432x288 with 1 Axes>"
      ]
     },
     "metadata": {
      "needs_background": "light"
     },
     "output_type": "display_data"
    }
   ],
   "source": [
    "n = np.arange(0,11)\n",
    "plt.stem(n,y)\n",
    "plt.title('[y[n]]')\n",
    "plt.xlabel('n')"
   ]
  },
  {
   "cell_type": "code",
   "execution_count": 14,
   "id": "6ef49d3b",
   "metadata": {},
   "outputs": [
    {
     "name": "stdout",
     "output_type": "stream",
     "text": [
      "[0.         0.         0.         0.         1.         2.1\n",
      " 3.31       3.641      4.0051     4.40561    4.846171   4.3307881\n",
      " 3.76386691 3.1402536  3.45427896 3.09017896 2.68966896 2.24910796\n",
      " 1.76449086 1.23141205 0.64502536]\n",
      "[0.       0.       0.       0.       1.       2.1      3.31     3.641\n",
      " 4.0051   4.40561  4.846171]\n"
     ]
    },
    {
     "data": {
      "text/plain": [
       "Text(0.5, 1.0, 'y[n]')"
      ]
     },
     "execution_count": 14,
     "metadata": {},
     "output_type": "execute_result"
    },
    {
     "data": {
      "image/png": "[encoded data removed]",
      "text/plain": [
       "<Figure size 432x288 with 1 Axes>"
      ]
     },
     "metadata": {
      "needs_background": "light"
     },
     "output_type": "display_data"
    }
   ],
   "source": [
    "\n",
    "x = np.array ([0,0,0,0,1,1,1,1,1,1,1],dtype = float)\n",
    "h = np.zeros(11)\n",
    "ys = np.zeros(11)\n",
    "# h[n] = 1.1*h[n-1] + dirac[n] - dirac[n-3] \n",
    "# h[-1] = 0 n<0 için\n",
    "h[-1] = 0\n",
    "for n in range(11): #h[n] birim dürtü cevabını bulma loopu (el ile hesaplamak yerine for içinde hesapladım)\n",
    "    if((n != 0) & (n != 3)):\n",
    "        h[n] = 1.1*h[n-1] \n",
    "    elif(n == 0):\n",
    "        h[0] = 1\n",
    "    elif(n == 3):\n",
    "        h[n] = 1.1*h[n-1]-1\n",
    "y = signal.convolve(x,h) #same kullandığımızda üretilen full y arrayinin tam orasından almaktadır. Bizim değerlerimiz arrayin 0 ila 10 indisleri arasındadır. KAYNAK https://docs.scipy.org/doc/scipy/reference/generated/scipy.signal.convolve.html\n",
    "print(y) # full çıktı\n",
    "for n in range(11): #istediğimiz indisleri yeni bir arraye atama yaparız\n",
    "    ys[n] = y[n]\n",
    "n = np.arange(0,11)\n",
    "print(ys) # kullanılması gereken çıktı\n",
    "plt.stem(n,ys)\n",
    "plt.title('y[n]')"
   ]
  },
  {
   "cell_type": "markdown",
   "id": "9eea9fac",
   "metadata": {},
   "source": [
    "# Soru 2"
   ]
  },
  {
   "cell_type": "markdown",
   "id": "0dd4fb12",
   "metadata": {},
   "source": [
    "# a)"
   ]
  },
  {
   "cell_type": "code",
   "execution_count": 15,
   "id": "4d0210de",
   "metadata": {},
   "outputs": [
    {
     "name": "stdout",
     "output_type": "stream",
     "text": [
      "[ 0.          0.          0.         -0.         -0.         -0.\n",
      " -0.         -0.          0.          0.          1.          0.80901699\n",
      "  0.30901699 -0.30901699 -0.80901699 -1.         -0.80901699 -0.30901699\n",
      "  0.30901699  0.80901699]\n"
     ]
    },
    {
     "data": {
      "text/plain": [
       "Text(0.5, 0, 'n')"
      ]
     },
     "execution_count": 15,
     "metadata": {},
     "output_type": "execute_result"
    },
    {
     "data": {
      "image/png": "[encoded data removed]",
      "text/plain": [
       "<Figure size 432x288 with 1 Axes>"
      ]
     },
     "metadata": {
      "needs_background": "light"
     },
     "output_type": "display_data"
    }
   ],
   "source": [
    "x1 = np.zeros(20)\n",
    "for n in range(20):\n",
    "    if(n < 10):\n",
    "        x1[n] = np.cos((np.pi/5)*n)*0 # u[n] n<0 için 0'dır. Bu sebeple cos((pi/5)*n) * (0 - 0) olur\n",
    "    elif(10 <= n < 20):\n",
    "        x1[n] = np.cos((np.pi/5)*n) * 1 #u[n] n>=0 için 1'dır. Bu sebeple cos((pi/5)*n) * (1 - 0) olur\n",
    "    else:\n",
    "        x1[n] = np.cos((np.pi/5)*n) *0 #u[n] n>=0 için 1 u[n] n<0 için 0'dır. Bu sebeple cos((pi/5)*n) * (1 - 1) olur\n",
    "        \n",
    "n = np.arange(0,20)\n",
    "print(x1)\n",
    "plt.stem(n,x1) #giriş işareti\n",
    "plt.title('[x1[n]]')\n",
    "plt.xlabel('n')"
   ]
  },
  {
   "cell_type": "code",
   "execution_count": 16,
   "id": "14bc400f",
   "metadata": {},
   "outputs": [
    {
     "name": "stdout",
     "output_type": "stream",
     "text": [
      "[ 0.          0.          0.          0.          0.          0.\n",
      "  0.          0.          0.          0.          0.33333333  0.60300566\n",
      "  0.70601133  0.26967233 -0.26967233 -0.70601133 -0.872678   -0.70601133\n",
      " -0.26967233  0.26967233  0.372678    0.26967233]\n"
     ]
    },
    {
     "data": {
      "text/plain": [
       "Text(0.5, 0, 'n')"
      ]
     },
     "execution_count": 16,
     "metadata": {},
     "output_type": "execute_result"
    },
    {
     "data": {
      "image/png": "[encoded data removed]",
      "text/plain": [
       "<Figure size 432x288 with 1 Axes>"
      ]
     },
     "metadata": {
      "needs_background": "light"
     },
     "output_type": "display_data"
    }
   ],
   "source": [
    "h = np.array ([1/3,1/3,1/3],dtype = float) #birim dürtü cevabı el ile hesaplanarak yazıldı\n",
    "y = signal.convolve(x1,h) #convolisyon işlemi\n",
    "print(y)\n",
    "n = np.arange(0,22)\n",
    "plt.stem(n,y) #çıkış işareti\n",
    "plt.title('[y1[n]]')\n",
    "plt.xlabel('n')"
   ]
  },
  {
   "cell_type": "markdown",
   "id": "1bbefa18",
   "metadata": {},
   "source": [
    "# b)"
   ]
  },
  {
   "cell_type": "code",
   "execution_count": 17,
   "id": "056e79fe",
   "metadata": {},
   "outputs": [
    {
     "name": "stdout",
     "output_type": "stream",
     "text": [
      "[ 0.     -0.      0.     -0.027   0.0081]\n"
     ]
    },
    {
     "data": {
      "text/plain": [
       "Text(0.5, 0, 'n')"
      ]
     },
     "execution_count": 17,
     "metadata": {},
     "output_type": "execute_result"
    },
    {
     "data": {
      "image/png": "[encoded data removed]",
      "text/plain": [
       "<Figure size 432x288 with 1 Axes>"
      ]
     },
     "metadata": {
      "needs_background": "light"
     },
     "output_type": "display_data"
    }
   ],
   "source": [
    "x2 = np.zeros(5)\n",
    "for n in range(5):\n",
    "    if(n < 3):\n",
    "        x2[n] = (-0.3)**n*0 # u[n] n<0 için 0'dır. Bu sebeple (-0.3)**n * (0 - 0) olur\n",
    "    elif(3 <= n < 5):\n",
    "        x2[n] = (-0.3)**n* 1 #u[n] n>=0 için 1'dır. Bu sebeple (-0.3)**n * (1 - 0) olur\n",
    "    else:\n",
    "        x2[n] = (-0.3)**n*0 #u[n] n>=0 için 1 u[n] n<0 için 0'dır. Bu sebeple (-0.3)**n * (1 - 1) olur\n",
    "n = np.arange(0,5)\n",
    "print(x2)\n",
    "plt.stem(n,x2)\n",
    "plt.title('[x2[n]]')\n",
    "plt.xlabel('n')"
   ]
  },
  {
   "cell_type": "code",
   "execution_count": 18,
   "id": "907fdd30",
   "metadata": {},
   "outputs": [
    {
     "name": "stdout",
     "output_type": "stream",
     "text": [
      "[ 0.      0.      0.     -0.009  -0.0063 -0.0063  0.0027]\n"
     ]
    },
    {
     "data": {
      "text/plain": [
       "Text(0.5, 0, 'n')"
      ]
     },
     "execution_count": 18,
     "metadata": {},
     "output_type": "execute_result"
    },
    {
     "data": {
      "image/png": "[encoded data removed]",
      "text/plain": [
       "<Figure size 432x288 with 1 Axes>"
      ]
     },
     "metadata": {
      "needs_background": "light"
     },
     "output_type": "display_data"
    }
   ],
   "source": [
    "h = np.array ([1/3,1/3,1/3],dtype = float) #birim dürtü cevabı el ile hesaplanarak yazıldı\n",
    "y = signal.convolve(x2,h) #convolisyon işlemi\n",
    "print(y)\n",
    "n = np.arange(0,7)\n",
    "plt.stem(n,y) #çıkış işareti\n",
    "plt.title('[y2[n]]')\n",
    "plt.xlabel('n')"
   ]
  }
 ],
 "metadata": {
  "kernelspec": {
   "display_name": "Python 3 (ipykernel)",
   "language": "python",
   "name": "python3"
  },
  "language_info": {
   "codemirror_mode": {
    "name": "ipython",
    "version": 3
   },
   "file_extension": ".py",
   "mimetype": "text/x-python",
   "name": "python",
   "nbconvert_exporter": "python",
   "pygments_lexer": "ipython3",
   "version": "3.9.7"
  }
 },
 "nbformat": 4,
 "nbformat_minor": 5
}
